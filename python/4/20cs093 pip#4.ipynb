{
 "cells": [
  {
   "cell_type": "code",
   "execution_count": 10,
   "id": "333a0e88",
   "metadata": {
    "scrolled": true
   },
   "outputs": [
    {
     "name": "stdout",
     "output_type": "stream",
     "text": [
      "Enter N: 5\n",
      "2 3 6 6 5\n",
      "Runner up score is 5\n"
     ]
    }
   ],
   "source": [
    "N = int(input(\"Enter N: \"))\n",
    "scores = list(map(int,input().split()))[:N]\n",
    "scores = [i for i in scores if i!=max(scores)]\n",
    "print(\"Runner up score is\",max(scores))"
   ]
  },
  {
   "cell_type": "code",
   "execution_count": null,
   "id": "c589cb9f",
   "metadata": {},
   "outputs": [],
   "source": []
  }
 ],
 "metadata": {
  "kernelspec": {
   "display_name": "Python 3 (ipykernel)",
   "language": "python",
   "name": "python3"
  },
  "language_info": {
   "codemirror_mode": {
    "name": "ipython",
    "version": 3
   },
   "file_extension": ".py",
   "mimetype": "text/x-python",
   "name": "python",
   "nbconvert_exporter": "python",
   "pygments_lexer": "ipython3",
   "version": "3.9.7"
  }
 },
 "nbformat": 4,
 "nbformat_minor": 5
}
