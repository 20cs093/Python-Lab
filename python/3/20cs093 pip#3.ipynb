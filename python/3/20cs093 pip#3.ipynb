{
 "cells": [
  {
   "cell_type": "code",
   "execution_count": 44,
   "id": "ade3e752",
   "metadata": {},
   "outputs": [
    {
     "name": "stdout",
     "output_type": "stream",
     "text": [
      "Enter K: 5\n",
      "4 5 5 4 5 4 5 9 5 4 5 4\n",
      "Error in input!! 5:6\n"
     ]
    }
   ],
   "source": [
    "K = int(input(\"Enter K: \"))\n",
    "rooms = [room for room in input().split()]\n",
    "rooms = list(map(int,rooms))\n",
    "for x in rooms:\n",
    "    if rooms.count(x) == 1:\n",
    "        print(\"Captain's room: \", x)\n",
    "        break\n",
    "    elif rooms.count(x) != K:\n",
    "        print(\"Error in input!! {i}:{c}\".format(i=x,c=rooms.count(x)))\n",
    "        break"
   ]
  },
  {
   "cell_type": "code",
   "execution_count": null,
   "id": "e970e01e",
   "metadata": {},
   "outputs": [],
   "source": []
  }
 ],
 "metadata": {
  "kernelspec": {
   "display_name": "Python 3 (ipykernel)",
   "language": "python",
   "name": "python3"
  },
  "language_info": {
   "codemirror_mode": {
    "name": "ipython",
    "version": 3
   },
   "file_extension": ".py",
   "mimetype": "text/x-python",
   "name": "python",
   "nbconvert_exporter": "python",
   "pygments_lexer": "ipython3",
   "version": "3.9.7"
  }
 },
 "nbformat": 4,
 "nbformat_minor": 5
}
